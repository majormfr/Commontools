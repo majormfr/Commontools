{
  "cells": [
    {
      "cell_type": "markdown",
      "metadata": {
        "id": "view-in-github",
        "colab_type": "text"
      },
      "source": [
        "<a href=\"https://colab.research.google.com/github/majormfr/Commontools/blob/master/string2.ipynb\" target=\"_parent\"><img src=\"https://colab.research.google.com/assets/colab-badge.svg\" alt=\"Open In Colab\"/></a>"
      ]
    },
    {
      "cell_type": "code",
      "execution_count": 9,
      "metadata": {
        "colab": {
          "base_uri": "https://localhost:8080/"
        },
        "id": "IrwWZcanKjDs",
        "outputId": "9de422a2-b82d-49f4-b4bf-1f33f3804b09"
      },
      "outputs": [
        {
          "output_type": "stream",
          "name": "stdout",
          "text": [
            "hailing\n",
            "swimingly\n",
            "do\n"
          ]
        }
      ],
      "source": [
        "# In[1]:\n",
        "# Additional basic string exercises\n",
        "# D. verbing\n",
        "# Given a string, if its length is at least 3,\n",
        "# add 'ing' to its end.\n",
        "# Unless it already ends in 'ing', in which case\n",
        "# add 'ly' instead.\n",
        "# If the string length is less than 3, leave it unchanged.\n",
        "# Return the resulting string.\n",
        "def verbing(s):\n",
        "    if len(s) < 3:\n",
        "      return s\n",
        "\n",
        "    if len(s) >= 3 and s[-3:] == \"ing\":\n",
        "      return s + \"ly\"\n",
        "\n",
        "    if len(s) >= 3 and s[-3:] != \"ing\":\n",
        "      return s + \"ing\"\n",
        "\n",
        "print(verbing('hail'))\n",
        "print(verbing('swiming'))\n",
        "print(verbing('do'))\n",
        "\n"
      ]
    },
    {
      "cell_type": "code",
      "execution_count": 63,
      "metadata": {
        "colab": {
          "base_uri": "https://localhost:8080/"
        },
        "id": "79K-1BTQKjDt",
        "outputId": "d4c59c06-cbae-484b-923a-bfa7832c1712"
      },
      "outputs": [
        {
          "output_type": "stream",
          "name": "stdout",
          "text": [
            "This is a good book\n"
          ]
        }
      ],
      "source": [
        "# E. not_bad\n",
        "# Given a string, find the first appearance of the\n",
        "# substring 'not' and 'bad'. If the 'bad' follows\n",
        "# the 'not', replace the whole 'not'...'bad' substring\n",
        "# with 'good'.\n",
        "# Return the resulting string.\n",
        "# So 'This dinner is not that bad!' yields:\n",
        "# This dinner is good!\n",
        "def not_bad(s):\n",
        "  og = s\n",
        "  s = s.split()\n",
        "  if \"bad\" not in s:\n",
        "    return og\n",
        "  pos_not = s.index(\"not\")\n",
        "  pos_bad = s.index(\"bad\")\n",
        "\n",
        "  if pos_not < pos_bad:\n",
        "    #not is following bad\n",
        "    s[pos_not:pos_bad + 1] = [\"good\"]\n",
        "\n",
        "    return \" \".join(s)\n",
        "  elif pos_bad < pos_not:\n",
        "    return og\n",
        "\n",
        "print (not_bad(\"This is a not that so bad book\"))\n"
      ]
    },
    {
      "cell_type": "code",
      "execution_count": 52,
      "metadata": {
        "colab": {
          "base_uri": "https://localhost:8080/"
        },
        "id": "cPqHwNoqKjDu",
        "outputId": "d039a364-a9e7-4b06-c682-56c5a26053c9"
      },
      "outputs": [
        {
          "output_type": "stream",
          "name": "stdout",
          "text": [
            "KitDontenut\n"
          ]
        }
      ],
      "source": [
        "# F. front_back\n",
        "# Consider dividing a string into two halves.\n",
        "# If the length is even, the front and back halves are the same length.\n",
        "# If the length is odd, we'll say that the extra char goes in the front half.\n",
        "# e.g. 'abcde', the front half is 'abc', the back half 'de'.\n",
        "# Given 2 strings, a and b, return a string of the form\n",
        "#  a-front + b-front + a-back + b-back\n",
        "def make_half(t):\n",
        "    arr = list(t)\n",
        "    mid = len(arr) // 2\n",
        "    if(len(arr)%2 == 0):\n",
        "      return (arr[:mid],arr[mid:])\n",
        "    else:\n",
        "      return (arr[:mid + 1],arr[-mid:])\n",
        "\n",
        "def front_back(a, b):\n",
        "    result = []\n",
        "    a_front = \"\".join(make_half(a)[0])\n",
        "    a_back = \"\".join(make_half(a)[1])\n",
        "    b_front = \"\".join(make_half(b)[0])\n",
        "    b_back = \"\".join(make_half(b)[1])\n",
        "    result.append(a_front)\n",
        "    result.append(b_front)\n",
        "    result.append(a_back)\n",
        "    result.append(b_back)\n",
        "    return \"\".join(result)\n",
        "print(front_back('Kitten', 'Donut'))\n",
        "#test(front_back('Kitten', 'Donut'), 'KitDontenut')\n"
      ]
    },
    {
      "cell_type": "code",
      "execution_count": 54,
      "metadata": {
        "id": "LMipTL6CKjDv"
      },
      "outputs": [],
      "source": [
        "# Simple provided test() function used in main() to print\n",
        "# what each function returns vs. what it's supposed to return.\n",
        "def test(got, expected):\n",
        "  if got == expected:\n",
        "    prefix = ' OK '\n",
        "  else:\n",
        "    prefix = '  X '\n",
        "  print ('%s got: %s expected: %s' % (prefix, repr(got), repr(expected)))\n",
        "\n"
      ]
    },
    {
      "cell_type": "code",
      "execution_count": 64,
      "metadata": {
        "colab": {
          "base_uri": "https://localhost:8080/"
        },
        "id": "K2vmj8vRKjDv",
        "outputId": "ef26e640-f226-49fc-f82a-6c8e6dfa1679"
      },
      "outputs": [
        {
          "output_type": "stream",
          "name": "stdout",
          "text": [
            "verbing\n",
            " OK  got: 'hailing' expected: 'hailing'\n",
            " OK  got: 'swimingly' expected: 'swimingly'\n",
            " OK  got: 'do' expected: 'do'\n",
            "not_bad\n",
            " OK  got: 'This movie is good' expected: 'This movie is good'\n",
            " OK  got: 'This dinner is good' expected: 'This dinner is good'\n",
            " OK  got: 'This tea is not hot' expected: 'This tea is not hot'\n",
            " OK  got: \"It's bad yet not\" expected: \"It's bad yet not\"\n",
            "front_back\n",
            " OK  got: 'abxcdy' expected: 'abxcdy'\n",
            " OK  got: 'abcxydez' expected: 'abcxydez'\n",
            " OK  got: 'KitDontenut' expected: 'KitDontenut'\n"
          ]
        }
      ],
      "source": [
        "# main() calls the above functions with interesting inputs,\n",
        "# using the above test() to check if the result is correct or not.\n",
        "print ('verbing')\n",
        "test(verbing('hail'), 'hailing')\n",
        "test(verbing('swiming'), 'swimingly')\n",
        "test(verbing('do'), 'do')\n",
        "\n",
        "\n",
        "print ('not_bad')\n",
        "test(not_bad('This movie is not so bad'), 'This movie is good')\n",
        "test(not_bad('This dinner is not that bad'), 'This dinner is good')\n",
        "test(not_bad('This tea is not hot'), 'This tea is not hot')\n",
        "test(not_bad(\"It's bad yet not\"), \"It's bad yet not\")\n",
        "\n",
        "\n",
        "print ('front_back')\n",
        "test(front_back('abcd', 'xy'), 'abxcdy')\n",
        "test(front_back('abcde', 'xyz'), 'abcxydez')\n",
        "test(front_back('Kitten', 'Donut'), 'KitDontenut')"
      ]
    }
  ],
  "metadata": {
    "anaconda-cloud": {},
    "kernelspec": {
      "display_name": "Python 2",
      "language": "python",
      "name": "python2"
    },
    "language_info": {
      "codemirror_mode": {
        "name": "ipython",
        "version": 2
      },
      "file_extension": ".py",
      "mimetype": "text/x-python",
      "name": "python",
      "nbconvert_exporter": "python",
      "pygments_lexer": "ipython2",
      "version": "2.7.13"
    },
    "colab": {
      "provenance": [],
      "toc_visible": true,
      "include_colab_link": true
    }
  },
  "nbformat": 4,
  "nbformat_minor": 0
}