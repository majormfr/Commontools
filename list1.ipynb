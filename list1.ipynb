{
  "cells": [
    {
      "cell_type": "markdown",
      "metadata": {
        "id": "view-in-github",
        "colab_type": "text"
      },
      "source": [
        "<a href=\"https://colab.research.google.com/github/majormfr/Commontools/blob/master/list1.ipynb\" target=\"_parent\"><img src=\"https://colab.research.google.com/assets/colab-badge.svg\" alt=\"Open In Colab\"/></a>"
      ]
    },
    {
      "cell_type": "code",
      "execution_count": null,
      "metadata": {
        "colab": {
          "base_uri": "https://localhost:8080/"
        },
        "id": "vjueNMc1aMO2",
        "outputId": "34a2b00e-e70b-46a4-9c34-13cbbb515b42"
      },
      "outputs": [
        {
          "output_type": "stream",
          "name": "stdout",
          "text": [
            "4\n"
          ]
        }
      ],
      "source": [
        "w=[\"this\",\"is\",\"a\",\"book\",\"abba\",\"aba\",\"aa\",\"cac\"]\n",
        "# In[1]:\n",
        "# A. match_ends\n",
        "# Given a list of strings, return the count of the number of\n",
        "# strings where the string length is 2 or more and the first\n",
        "# and last chars of the string are the same.\n",
        "# Note: python does not have a ++ operator, but += works.\n",
        "def match_ends(words):\n",
        "   count=0;\n",
        "   a=[]\n",
        "   for x in words:\n",
        "\n",
        "    if len(x) >= 2:\n",
        "       a = list(x)\n",
        "       if  a[0] == a[-1:][0]:\n",
        "        count+=1\n",
        "    else:\n",
        "      next\n",
        "\n",
        "   return count\n",
        "print(match_ends(w))\n"
      ]
    },
    {
      "cell_type": "code",
      "execution_count": 45,
      "metadata": {
        "id": "kGDXaTlLaMO4",
        "colab": {
          "base_uri": "https://localhost:8080/"
        },
        "outputId": "e8f19680-f23f-4795-c29f-bfd46ffcd3a3"
      },
      "outputs": [
        {
          "output_type": "stream",
          "name": "stdout",
          "text": [
            "['xaa', 'xab', 'xza', 'xzz', 'a', 'aa', 'aba', 'abba', 'book', 'cac', 'is', 'this']\n"
          ]
        }
      ],
      "source": [
        "w=[\"xzz\",\"this\",\"is\",\"a\",\"book\",\"abba\",\"aba\",\"aa\",\"cac\",\"xab\",\"xza\",\"xaa\"]\n",
        "# B. front_x\n",
        "# Given a list of strings, return a list with the strings\n",
        "# in sorted order, except group all the strings that begin with 'x' first.\n",
        "# e.g. ['mix', 'xyz', 'apple', 'xanadu', 'aardvark'] yields\n",
        "# ['xanadu', 'xyz', 'aardvark', 'apple', 'mix']\n",
        "# Hint: this can be done by making 2 lists and sorting each of them\n",
        "# before combining them.\n",
        "def front_x(words):\n",
        "  xfront = []\n",
        "  asc_words = []\n",
        "  for x in words:\n",
        "    if x.startswith('x'):\n",
        "      xfront.append(x)\n",
        "    else:\n",
        "      asc_words.append(x)\n",
        "  return sorted(xfront)+sorted(asc_words)\n",
        "\n",
        "print(front_x(w))\n",
        "\n"
      ]
    },
    {
      "cell_type": "code",
      "execution_count": null,
      "metadata": {
        "id": "wrcdtafXaMO4"
      },
      "outputs": [],
      "source": [
        "# C. sort_last\n",
        "# Given a list of non-empty tuples, return a list sorted in increasing\n",
        "# order by the last element in each tuple.\n",
        "# e.g. [(1, 7), (1, 3), (3, 4, 5), (2, 2)] yields\n",
        "# [(2, 2), (1, 3), (3, 4, 5), (1, 7)]\n",
        "# Hint: use a custom key= function to extract the last element form each tuple.\n",
        "def sort_last(tuples):\n",
        "  def get_last_element(t):\n",
        "        return t[-1]\n",
        "\n",
        "sorted(tuples,key=get_last_element)\n",
        "\n",
        "\n"
      ]
    },
    {
      "cell_type": "code",
      "execution_count": null,
      "metadata": {
        "id": "KAMhHCSnaMO5"
      },
      "outputs": [],
      "source": [
        "# Simple provided test() function used in main() to print\n",
        "# what each function returns vs. what it's supposed to return.\n",
        "def test(got, expected):\n",
        "  if got == expected:\n",
        "    prefix = ' OK '\n",
        "  else:\n",
        "    prefix = '  X '\n",
        "  print ('%s got: %s expected: %s' % (prefix, repr(got), repr(expected)))\n",
        "\n"
      ]
    },
    {
      "cell_type": "code",
      "execution_count": 46,
      "metadata": {
        "colab": {
          "base_uri": "https://localhost:8080/"
        },
        "id": "kpsuF4hnaMO5",
        "outputId": "a4e41105-bad0-4c00-b96e-5ee84c400a08"
      },
      "outputs": [
        {
          "output_type": "stream",
          "name": "stdout",
          "text": [
            "match_ends\n",
            " OK  got: 3 expected: 3\n",
            " OK  got: 2 expected: 2\n",
            " OK  got: 1 expected: 1\n",
            "front_x\n",
            " OK  got: ['xaa', 'xzz', 'axx', 'bbb', 'ccc'] expected: ['xaa', 'xzz', 'axx', 'bbb', 'ccc']\n",
            " OK  got: ['xaa', 'xcc', 'aaa', 'bbb', 'ccc'] expected: ['xaa', 'xcc', 'aaa', 'bbb', 'ccc']\n",
            " OK  got: ['xanadu', 'xyz', 'aardvark', 'apple', 'mix'] expected: ['xanadu', 'xyz', 'aardvark', 'apple', 'mix']\n"
          ]
        }
      ],
      "source": [
        "# Calls the above functions with interesting inputs.\n",
        "\n",
        "print ('match_ends')\n",
        "test(match_ends(['aba', 'xyz', 'aa', 'x', 'bbb']), 3)\n",
        "test(match_ends(['', 'x', 'xy', 'xyx', 'xx']), 2)\n",
        "test(match_ends(['aaa', 'be', 'abc', 'hello']), 1)\n",
        "\n",
        "\n",
        "print ('front_x')\n",
        "test(front_x(['bbb', 'ccc', 'axx', 'xzz', 'xaa']),\n",
        "     ['xaa', 'xzz', 'axx', 'bbb', 'ccc'])\n",
        "test(front_x(['ccc', 'bbb', 'aaa', 'xcc', 'xaa']),\n",
        "     ['xaa', 'xcc', 'aaa', 'bbb', 'ccc'])\n",
        "test(front_x(['mix', 'xyz', 'apple', 'xanadu', 'aardvark']),\n",
        "     ['xanadu', 'xyz', 'aardvark', 'apple', 'mix'])\n",
        "\n",
        "\n",
        "\n",
        "print ('sort_last')\n",
        "test(sort_last([(1, 3), (3, 2), (2, 1)]),\n",
        "     [(2, 1), (3, 2), (1, 3)])\n",
        "test(sort_last([(2, 3), (1, 2), (3, 1)]),\n",
        "     [(3, 1), (1, 2), (2, 3)])\n",
        "test(sort_last([(1, 7), (1, 3), (3, 4, 5), (2, 2)]),\n",
        "     [(2, 2), (1, 3), (3, 4, 5), (1, 7)])"
      ]
    },
    {
      "cell_type": "code",
      "execution_count": null,
      "metadata": {
        "collapsed": true,
        "id": "8pujaFQ8aMO6"
      },
      "outputs": [],
      "source": []
    }
  ],
  "metadata": {
    "anaconda-cloud": {},
    "kernelspec": {
      "display_name": "Python 2",
      "language": "python",
      "name": "python2"
    },
    "language_info": {
      "codemirror_mode": {
        "name": "ipython",
        "version": 2
      },
      "file_extension": ".py",
      "mimetype": "text/x-python",
      "name": "python",
      "nbconvert_exporter": "python",
      "pygments_lexer": "ipython2",
      "version": "2.7.13"
    },
    "colab": {
      "provenance": [],
      "toc_visible": true,
      "include_colab_link": true
    }
  },
  "nbformat": 4,
  "nbformat_minor": 0
}